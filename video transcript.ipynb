{
 "cells": [
  {
   "cell_type": "markdown",
   "metadata": {},
   "source": [
    "pip install -U openai-whisper  "
   ]
  },
  {
   "cell_type": "code",
   "execution_count": 1,
   "metadata": {},
   "outputs": [],
   "source": [
    "import whisper\n",
    "from whisper.utils import get_writer\n",
    "from pathlib import Path\n"
   ]
  },
  {
   "cell_type": "markdown",
   "metadata": {},
   "source": [
    "https://ffmpeg.org/download.html  "
   ]
  },
  {
   "cell_type": "code",
   "execution_count": 24,
   "metadata": {},
   "outputs": [
    {
     "name": "stdout",
     "output_type": "stream",
     "text": [
      "ffmpeg is successfully added to the system path.\n"
     ]
    }
   ],
   "source": [
    "import os\n",
    "\n",
    "# Path to the directory containing ffmpeg executable\n",
    "user_path = Path(os.path.expanduser('~'))\n",
    "ffmpeg_path = str(user_path/'scoop/apps/ffmpeg/7.0\\bin')\n",
    "\n",
    "# Get the current system path\n",
    "system_path = os.environ.get(\"PATH\", \"\")\n",
    "\n",
    "# Add ffmpeg directory to the system path if it's not already there\n",
    "if ffmpeg_path not in system_path:\n",
    "    os.environ[\"PATH\"] = ffmpeg_path + \";\" + system_path\n",
    "\n",
    "# Optional: Verify if ffmpeg is now accessible\n",
    "if os.system(\"ffmpeg -version\") == 0:\n",
    "    print(\"ffmpeg is successfully added to the system path.\")\n",
    "else:\n",
    "    print(\"Failed to add ffmpeg to the system path.\")\n"
   ]
  },
  {
   "cell_type": "markdown",
   "metadata": {},
   "source": [
    "https://pypi.org/project/openai-whisper/  \n",
    "https://github.com/openai/whisper  "
   ]
  },
  {
   "cell_type": "markdown",
   "metadata": {},
   "source": [
    "|  Size  | Parameters | English-only model | Multilingual model | Required VRAM | Relative speed |\n",
    "|:------:|:----------:|:------------------:|:------------------:|:-------------:|:--------------:|\n",
    "|  tiny  |    39 M    |     `tiny.en`      |       `tiny`       |     ~1 GB     |      ~32x      |\n",
    "|  base  |    74 M    |     `base.en`      |       `base`       |     ~1 GB     |      ~16x      |\n",
    "| small  |   244 M    |     `small.en`     |      `small`       |     ~2 GB     |      ~6x       |\n",
    "| medium |   769 M    |    `medium.en`     |      `medium`      |     ~5 GB     |      ~2x       |\n",
    "| large  |   1550 M   |        N/A         |      `large`       |    ~10 GB     |       1x       |"
   ]
  },
  {
   "cell_type": "code",
   "execution_count": 11,
   "metadata": {},
   "outputs": [
    {
     "name": "stderr",
     "output_type": "stream",
     "text": [
      "100%|█████████████████████████████████████| 1.42G/1.42G [04:27<00:00, 5.70MiB/s]\n"
     ]
    }
   ],
   "source": [
    "# Load the Whisper model\n",
    "model = whisper.load_model(\"medium\")"
   ]
  },
  {
   "cell_type": "code",
   "execution_count": 12,
   "metadata": {},
   "outputs": [],
   "source": [
    "option = whisper.DecodingOptions(language='en', fp16=False)"
   ]
  },
  {
   "cell_type": "code",
   "execution_count": 1,
   "metadata": {},
   "outputs": [],
   "source": [
    "from dotenv import load_dotenv\n"
   ]
  },
  {
   "cell_type": "code",
   "execution_count": 4,
   "metadata": {},
   "outputs": [],
   "source": [
    "# just keeping private filenames hidden\n",
    "load_dotenv()\n",
    "my_video_file = os.getenv('my_video_file')\n",
    "my_audio_file = os.getenv('my_audio_file')"
   ]
  },
  {
   "cell_type": "code",
   "execution_count": 15,
   "metadata": {},
   "outputs": [],
   "source": [
    "# Path to your video file\n",
    "vname = my_video_file\n",
    "vext = '.mp4'\n",
    "\n",
    "# Path to your audio file\n",
    "# vname = my_audio_file\n",
    "# vext = '.wav'\n",
    "\n",
    "video_name = vname + vext\n",
    "path = Path.cwd()\n",
    "video_path = path/video_name"
   ]
  },
  {
   "cell_type": "code",
   "execution_count": null,
   "metadata": {},
   "outputs": [],
   "source": [
    "# Transcribe the video audio\n",
    "result = model.transcribe(str(video_path))\n",
    "\n",
    "# Get the transcript\n",
    "transcript = result[\"text\"]\n",
    "\n",
    "# Print or save the transcript\n",
    "print(transcript)\n",
    "\n",
    "with open(path/(vname+'.txt'), 'w', encoding='utf-8') as f:\n",
    "        f.write(transcript)\n"
   ]
  },
  {
   "cell_type": "markdown",
   "metadata": {},
   "source": [
    "This is still part of whisper.  \n",
    "But max_words_per_line=5, max_line_count=2, max_line_width=42 doesn't really seem to work.  "
   ]
  },
  {
   "cell_type": "code",
   "execution_count": 17,
   "metadata": {},
   "outputs": [],
   "source": [
    "word_options = {\n",
    "        \"highlight_words\": False,\n",
    "        \"max_line_count\": 2,\n",
    "        \"max_line_width\": 10\n",
    "    }\n",
    "srt_writer = get_writer(\"srt\", path)\n",
    "# srt_writer(result, vname+'.mp3', options=word_options)\n",
    "srt_writer(result, vname+'.mp3', max_words_per_line=5, max_line_count=2, max_line_width=42)"
   ]
  },
  {
   "cell_type": "markdown",
   "metadata": {},
   "source": [
    "https://pypi.org/project/deep-translator/  \n",
    "pip install -U deep-translator"
   ]
  },
  {
   "cell_type": "code",
   "execution_count": 18,
   "metadata": {},
   "outputs": [],
   "source": [
    "from deep_translator import GoogleTranslator"
   ]
  },
  {
   "cell_type": "code",
   "execution_count": 19,
   "metadata": {},
   "outputs": [],
   "source": [
    "translated = GoogleTranslator(source='en', target='el').translate_file(vname+'.srt')\n",
    "with open(vname+'.el.srt', \"w\") as file:\n",
    "    file.write(translated)"
   ]
  },
  {
   "cell_type": "markdown",
   "metadata": {},
   "source": [
    "Just a test code snippet that splits lines if len>42 characters  "
   ]
  },
  {
   "cell_type": "code",
   "execution_count": 21,
   "metadata": {},
   "outputs": [],
   "source": [
    "def split_line(line, max_length):\n",
    "    if len(line) <= max_length:\n",
    "        return [line]\n",
    "    space_pos = line.rfind(' ', 0, max_length)\n",
    "    if space_pos == -1:\n",
    "        return [line[:max_length]] + split_line(line[max_length:], max_length)\n",
    "    return [line[:space_pos]] + split_line(line[space_pos+1:], max_length)\n",
    "\n",
    "def process_file(input_file, output_file, max_length=42):\n",
    "    with open(input_file, 'r') as infile, open(output_file, 'w') as outfile:\n",
    "        for line in infile:\n",
    "            line = line.rstrip('\\n')\n",
    "            for split in split_line(line, max_length):\n",
    "                outfile.write(split + '\\n')\n",
    "\n",
    "input_file = vname+'.el.srt'\n",
    "output_file = vname+'.el.split.srt'\n",
    "process_file(input_file, output_file)\n"
   ]
  }
 ],
 "metadata": {
  "kernelspec": {
   "display_name": "base",
   "language": "python",
   "name": "python3"
  },
  "language_info": {
   "codemirror_mode": {
    "name": "ipython",
    "version": 3
   },
   "file_extension": ".py",
   "mimetype": "text/x-python",
   "name": "python",
   "nbconvert_exporter": "python",
   "pygments_lexer": "ipython3",
   "version": "3.11.7"
  }
 },
 "nbformat": 4,
 "nbformat_minor": 2
}
